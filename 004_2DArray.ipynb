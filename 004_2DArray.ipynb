{
 "cells": [
  {
   "cell_type": "markdown",
   "id": "2db419be",
   "metadata": {},
   "source": [
    "# Creating 1D Array"
   ]
  },
  {
   "cell_type": "code",
   "execution_count": 1,
   "id": "13a64606",
   "metadata": {},
   "outputs": [],
   "source": [
    "import numpy as np"
   ]
  },
  {
   "cell_type": "code",
   "execution_count": null,
   "id": "a338b0d9",
   "metadata": {},
   "outputs": [],
   "source": [
    "# using arange()"
   ]
  },
  {
   "cell_type": "code",
   "execution_count": 12,
   "id": "d1983dca",
   "metadata": {},
   "outputs": [],
   "source": [
    "arr1 = np.arange(5,51,5)"
   ]
  },
  {
   "cell_type": "code",
   "execution_count": 13,
   "id": "9dfb6116",
   "metadata": {},
   "outputs": [
    {
     "data": {
      "text/plain": [
       "array([ 5, 10, 15, 20, 25, 30, 35, 40, 45, 50])"
      ]
     },
     "execution_count": 13,
     "metadata": {},
     "output_type": "execute_result"
    }
   ],
   "source": [
    "arr1"
   ]
  },
  {
   "cell_type": "code",
   "execution_count": 14,
   "id": "bfa598be",
   "metadata": {},
   "outputs": [
    {
     "data": {
      "text/plain": [
       "array([0, 1, 2, 3, 4, 5, 6, 7, 8, 9])"
      ]
     },
     "execution_count": 14,
     "metadata": {},
     "output_type": "execute_result"
    }
   ],
   "source": [
    "arr1 = np.arange(10)\n",
    "\n",
    "# default start will be zero\n",
    "arr1"
   ]
  },
  {
   "cell_type": "code",
   "execution_count": 15,
   "id": "401c49ee",
   "metadata": {},
   "outputs": [
    {
     "data": {
      "text/plain": [
       "array([ 15,  16,  17,  18,  19,  20,  21,  22,  23,  24,  25,  26,  27,\n",
       "        28,  29,  30,  31,  32,  33,  34,  35,  36,  37,  38,  39,  40,\n",
       "        41,  42,  43,  44,  45,  46,  47,  48,  49,  50,  51,  52,  53,\n",
       "        54,  55,  56,  57,  58,  59,  60,  61,  62,  63,  64,  65,  66,\n",
       "        67,  68,  69,  70,  71,  72,  73,  74,  75,  76,  77,  78,  79,\n",
       "        80,  81,  82,  83,  84,  85,  86,  87,  88,  89,  90,  91,  92,\n",
       "        93,  94,  95,  96,  97,  98,  99, 100, 101, 102, 103, 104, 105,\n",
       "       106, 107, 108, 109, 110, 111, 112, 113, 114, 115, 116, 117, 118,\n",
       "       119, 120, 121, 122, 123, 124, 125, 126, 127, 128, 129, 130, 131,\n",
       "       132, 133, 134, 135, 136, 137, 138, 139, 140, 141, 142, 143, 144,\n",
       "       145, 146, 147, 148, 149, 150, 151, 152, 153, 154, 155, 156, 157,\n",
       "       158, 159, 160, 161, 162, 163, 164, 165, 166, 167, 168, 169, 170,\n",
       "       171, 172, 173, 174, 175, 176, 177, 178, 179, 180, 181, 182, 183,\n",
       "       184, 185, 186, 187, 188, 189, 190, 191, 192, 193, 194, 195, 196,\n",
       "       197, 198, 199])"
      ]
     },
     "execution_count": 15,
     "metadata": {},
     "output_type": "execute_result"
    }
   ],
   "source": [
    "arr1 = np.arange(15,200)\n",
    "arr1"
   ]
  },
  {
   "cell_type": "code",
   "execution_count": 16,
   "id": "4f8736c8",
   "metadata": {},
   "outputs": [
    {
     "data": {
      "text/plain": [
       "array([ 15,  20,  25,  30,  35,  40,  45,  50,  55,  60,  65,  70,  75,\n",
       "        80,  85,  90,  95, 100, 105, 110, 115, 120, 125, 130, 135, 140,\n",
       "       145, 150, 155, 160, 165, 170, 175, 180, 185, 190, 195])"
      ]
     },
     "execution_count": 16,
     "metadata": {},
     "output_type": "execute_result"
    }
   ],
   "source": [
    "arr1 = np.arange(15,200,5)\n",
    "# last value will not included\n",
    "arr1"
   ]
  },
  {
   "cell_type": "code",
   "execution_count": 17,
   "id": "e0a99407",
   "metadata": {},
   "outputs": [
    {
     "data": {
      "text/plain": [
       "array([], dtype=int32)"
      ]
     },
     "execution_count": 17,
     "metadata": {},
     "output_type": "execute_result"
    }
   ],
   "source": [
    "arr1 = np.arange(15,200,-5)\n",
    "arr1\n",
    "# will not work"
   ]
  },
  {
   "cell_type": "code",
   "execution_count": 22,
   "id": "801bc52b",
   "metadata": {},
   "outputs": [
    {
     "data": {
      "text/plain": [
       "array([ 200,  195,  190,  185,  180,  175,  170,  165,  160,  155,  150,\n",
       "        145,  140,  135,  130,  125,  120,  115,  110,  105,  100,   95,\n",
       "         90,   85,   80,   75,   70,   65,   60,   55,   50,   45,   40,\n",
       "         35,   30,   25,   20,   15,   10,    5,    0,   -5,  -10,  -15,\n",
       "        -20,  -25,  -30,  -35,  -40,  -45,  -50,  -55,  -60,  -65,  -70,\n",
       "        -75,  -80,  -85,  -90,  -95, -100, -105, -110, -115, -120, -125,\n",
       "       -130, -135, -140, -145, -150, -155, -160, -165, -170, -175, -180,\n",
       "       -185, -190, -195])"
      ]
     },
     "execution_count": 22,
     "metadata": {},
     "output_type": "execute_result"
    }
   ],
   "source": [
    "arr1 = np.arange(200,-200,-5)\n",
    "# will work for np.arange (pos,neg,neg)\n",
    "arr1"
   ]
  },
  {
   "cell_type": "code",
   "execution_count": 23,
   "id": "834b7480",
   "metadata": {},
   "outputs": [
    {
     "data": {
      "text/plain": [
       "array([10. , 10.5, 11. , 11.5, 12. , 12.5, 13. , 13.5, 14. , 14.5, 15. ,\n",
       "       15.5, 16. , 16.5, 17. , 17.5, 18. , 18.5, 19. , 19.5, 20. , 20.5,\n",
       "       21. , 21.5, 22. , 22.5, 23. , 23.5, 24. , 24.5, 25. , 25.5, 26. ,\n",
       "       26.5, 27. , 27.5, 28. , 28.5, 29. , 29.5, 30. , 30.5, 31. , 31.5,\n",
       "       32. , 32.5, 33. , 33.5, 34. , 34.5, 35. , 35.5, 36. , 36.5, 37. ,\n",
       "       37.5, 38. , 38.5, 39. , 39.5, 40. , 40.5, 41. , 41.5, 42. , 42.5,\n",
       "       43. , 43.5, 44. , 44.5, 45. , 45.5, 46. , 46.5, 47. , 47.5, 48. ,\n",
       "       48.5, 49. , 49.5, 50. , 50.5, 51. , 51.5, 52. , 52.5, 53. , 53.5,\n",
       "       54. , 54.5, 55. , 55.5, 56. , 56.5, 57. , 57.5, 58. , 58.5, 59. ,\n",
       "       59.5, 60. , 60.5, 61. , 61.5, 62. , 62.5, 63. , 63.5, 64. , 64.5,\n",
       "       65. , 65.5, 66. , 66.5, 67. , 67.5, 68. , 68.5, 69. , 69.5, 70. ,\n",
       "       70.5, 71. , 71.5, 72. , 72.5, 73. , 73.5, 74. , 74.5, 75. , 75.5,\n",
       "       76. , 76.5, 77. , 77.5, 78. , 78.5, 79. , 79.5, 80. , 80.5, 81. ,\n",
       "       81.5, 82. , 82.5, 83. , 83.5, 84. , 84.5, 85. , 85.5, 86. , 86.5,\n",
       "       87. , 87.5, 88. , 88.5, 89. , 89.5, 90. , 90.5, 91. , 91.5, 92. ,\n",
       "       92.5, 93. , 93.5, 94. , 94.5, 95. , 95.5, 96. , 96.5, 97. , 97.5,\n",
       "       98. , 98.5, 99. , 99.5])"
      ]
     },
     "execution_count": 23,
     "metadata": {},
     "output_type": "execute_result"
    }
   ],
   "source": [
    "arr1 = np.arange(10,100,.5)\n",
    "# fraction stepsize will supported in arange ,but not in range()\n",
    "arr1"
   ]
  },
  {
   "cell_type": "code",
   "execution_count": null,
   "id": "3a27b97d",
   "metadata": {},
   "outputs": [],
   "source": [
    "# checking the Aattributes"
   ]
  },
  {
   "cell_type": "code",
   "execution_count": 24,
   "id": "c196be0c",
   "metadata": {},
   "outputs": [
    {
     "data": {
      "text/plain": [
       "(180,)"
      ]
     },
     "execution_count": 24,
     "metadata": {},
     "output_type": "execute_result"
    }
   ],
   "source": [
    "arr1.shape"
   ]
  },
  {
   "cell_type": "code",
   "execution_count": 25,
   "id": "b712d85c",
   "metadata": {},
   "outputs": [
    {
     "data": {
      "text/plain": [
       "180"
      ]
     },
     "execution_count": 25,
     "metadata": {},
     "output_type": "execute_result"
    }
   ],
   "source": [
    "arr1.size"
   ]
  },
  {
   "cell_type": "code",
   "execution_count": 26,
   "id": "ccd2c3d7",
   "metadata": {},
   "outputs": [
    {
     "data": {
      "text/plain": [
       "1"
      ]
     },
     "execution_count": 26,
     "metadata": {},
     "output_type": "execute_result"
    }
   ],
   "source": [
    "arr1.ndim"
   ]
  },
  {
   "cell_type": "code",
   "execution_count": null,
   "id": "ad767330",
   "metadata": {},
   "outputs": [],
   "source": []
  },
  {
   "cell_type": "markdown",
   "id": "493114f2",
   "metadata": {},
   "source": [
    "# Creating 2D Array"
   ]
  },
  {
   "cell_type": "code",
   "execution_count": null,
   "id": "64a90950",
   "metadata": {},
   "outputs": [],
   "source": [
    "# using list of lists"
   ]
  },
  {
   "cell_type": "code",
   "execution_count": 31,
   "id": "311e708e",
   "metadata": {},
   "outputs": [],
   "source": [
    "m = [[1,2,3,4,5,6,7,8,9,10,11],[1,2,3,4,5,6,7,8,9,10,11]]"
   ]
  },
  {
   "cell_type": "code",
   "execution_count": 32,
   "id": "74491734",
   "metadata": {},
   "outputs": [
    {
     "name": "stdout",
     "output_type": "stream",
     "text": [
      "<class 'list'>\n"
     ]
    }
   ],
   "source": [
    "print(type(m))"
   ]
  },
  {
   "cell_type": "code",
   "execution_count": 35,
   "id": "74f27447",
   "metadata": {},
   "outputs": [
    {
     "data": {
      "text/plain": [
       "[[1, 2, 3, 4, 5, 6, 7, 8, 9, 10, 11], [1, 2, 3, 4, 5, 6, 7, 8, 9, 10, 11]]"
      ]
     },
     "execution_count": 35,
     "metadata": {},
     "output_type": "execute_result"
    }
   ],
   "source": [
    "m"
   ]
  },
  {
   "cell_type": "code",
   "execution_count": 36,
   "id": "43f990ec",
   "metadata": {},
   "outputs": [],
   "source": [
    "m_arr = np.array(m)"
   ]
  },
  {
   "cell_type": "code",
   "execution_count": 37,
   "id": "d1bd23e9",
   "metadata": {},
   "outputs": [
    {
     "data": {
      "text/plain": [
       "array([[ 1,  2,  3,  4,  5,  6,  7,  8,  9, 10, 11],\n",
       "       [ 1,  2,  3,  4,  5,  6,  7,  8,  9, 10, 11]])"
      ]
     },
     "execution_count": 37,
     "metadata": {},
     "output_type": "execute_result"
    }
   ],
   "source": [
    "m_arr"
   ]
  },
  {
   "cell_type": "code",
   "execution_count": 38,
   "id": "93933a2b",
   "metadata": {},
   "outputs": [
    {
     "data": {
      "text/plain": [
       "numpy.ndarray"
      ]
     },
     "execution_count": 38,
     "metadata": {},
     "output_type": "execute_result"
    }
   ],
   "source": [
    "type(m_arr)"
   ]
  },
  {
   "cell_type": "code",
   "execution_count": null,
   "id": "28daaf1e",
   "metadata": {},
   "outputs": [],
   "source": [
    "\n",
    "# checking attributes"
   ]
  },
  {
   "cell_type": "code",
   "execution_count": 43,
   "id": "181d2bc7",
   "metadata": {},
   "outputs": [
    {
     "data": {
      "text/plain": [
       "(2, 11)"
      ]
     },
     "execution_count": 43,
     "metadata": {},
     "output_type": "execute_result"
    }
   ],
   "source": [
    "m_arr.shape"
   ]
  },
  {
   "cell_type": "code",
   "execution_count": 45,
   "id": "c38bba37",
   "metadata": {},
   "outputs": [
    {
     "data": {
      "text/plain": [
       "22"
      ]
     },
     "execution_count": 45,
     "metadata": {},
     "output_type": "execute_result"
    }
   ],
   "source": [
    "m_arr.size"
   ]
  },
  {
   "cell_type": "code",
   "execution_count": 42,
   "id": "fdec264b",
   "metadata": {},
   "outputs": [
    {
     "data": {
      "text/plain": [
       "2"
      ]
     },
     "execution_count": 42,
     "metadata": {},
     "output_type": "execute_result"
    }
   ],
   "source": [
    "m_arr.ndim"
   ]
  },
  {
   "cell_type": "code",
   "execution_count": null,
   "id": "46020a8c",
   "metadata": {},
   "outputs": [],
   "source": []
  },
  {
   "cell_type": "code",
   "execution_count": 53,
   "id": "f2b59380",
   "metadata": {},
   "outputs": [],
   "source": [
    "z =[[ 1,  2,  3,  4,  5,  6,  7,  8,  9, 10, 11],[ 1,  2,  3,  4,  5,  6,  7,  8,  9, 10, 11],[ 1,  2,  3,  4,  5,  6,  7,  8,  9, 10, 11]]"
   ]
  },
  {
   "cell_type": "code",
   "execution_count": 54,
   "id": "448f7872",
   "metadata": {},
   "outputs": [],
   "source": [
    "arr4 = np.array(z)"
   ]
  },
  {
   "cell_type": "code",
   "execution_count": 55,
   "id": "d29f950b",
   "metadata": {},
   "outputs": [
    {
     "data": {
      "text/plain": [
       "array([[ 1,  2,  3,  4,  5,  6,  7,  8,  9, 10, 11],\n",
       "       [ 1,  2,  3,  4,  5,  6,  7,  8,  9, 10, 11],\n",
       "       [ 1,  2,  3,  4,  5,  6,  7,  8,  9, 10, 11]])"
      ]
     },
     "execution_count": 55,
     "metadata": {},
     "output_type": "execute_result"
    }
   ],
   "source": [
    "arr4"
   ]
  },
  {
   "cell_type": "code",
   "execution_count": 56,
   "id": "c21d7389",
   "metadata": {},
   "outputs": [
    {
     "data": {
      "text/plain": [
       "2"
      ]
     },
     "execution_count": 56,
     "metadata": {},
     "output_type": "execute_result"
    }
   ],
   "source": [
    "arr4.ndim"
   ]
  },
  {
   "cell_type": "code",
   "execution_count": 57,
   "id": "2443f45d",
   "metadata": {},
   "outputs": [
    {
     "data": {
      "text/plain": [
       "33"
      ]
     },
     "execution_count": 57,
     "metadata": {},
     "output_type": "execute_result"
    }
   ],
   "source": [
    "arr4.size"
   ]
  },
  {
   "cell_type": "code",
   "execution_count": 74,
   "id": "7d499e52",
   "metadata": {},
   "outputs": [
    {
     "data": {
      "text/plain": [
       "(3, 11)"
      ]
     },
     "execution_count": 74,
     "metadata": {},
     "output_type": "execute_result"
    }
   ],
   "source": [
    "arr4.shape\n",
    "# (rows,column)"
   ]
  },
  {
   "cell_type": "code",
   "execution_count": null,
   "id": "9a583449",
   "metadata": {},
   "outputs": [],
   "source": [
    "# using reshape() to change the array from 1D to 2D\n",
    "# can also be change to higher dimension"
   ]
  },
  {
   "cell_type": "code",
   "execution_count": 59,
   "id": "942a56db",
   "metadata": {},
   "outputs": [],
   "source": [
    "arr5 = np.arange(12)"
   ]
  },
  {
   "cell_type": "code",
   "execution_count": 60,
   "id": "8a787ded",
   "metadata": {},
   "outputs": [
    {
     "data": {
      "text/plain": [
       "array([ 0,  1,  2,  3,  4,  5,  6,  7,  8,  9, 10, 11])"
      ]
     },
     "execution_count": 60,
     "metadata": {},
     "output_type": "execute_result"
    }
   ],
   "source": [
    "arr5"
   ]
  },
  {
   "cell_type": "code",
   "execution_count": 62,
   "id": "ab5d0f76",
   "metadata": {},
   "outputs": [
    {
     "data": {
      "text/plain": [
       "1"
      ]
     },
     "execution_count": 62,
     "metadata": {},
     "output_type": "execute_result"
    }
   ],
   "source": [
    "arr5.ndim"
   ]
  },
  {
   "cell_type": "code",
   "execution_count": 63,
   "id": "d59314cd",
   "metadata": {},
   "outputs": [
    {
     "data": {
      "text/plain": [
       "array([[ 0,  1,  2,  3],\n",
       "       [ 4,  5,  6,  7],\n",
       "       [ 8,  9, 10, 11]])"
      ]
     },
     "execution_count": 63,
     "metadata": {},
     "output_type": "execute_result"
    }
   ],
   "source": [
    "arr5.reshape(3,4)"
   ]
  },
  {
   "cell_type": "code",
   "execution_count": 64,
   "id": "761a6588",
   "metadata": {},
   "outputs": [
    {
     "data": {
      "text/plain": [
       "array([[ 0,  1,  2],\n",
       "       [ 3,  4,  5],\n",
       "       [ 6,  7,  8],\n",
       "       [ 9, 10, 11]])"
      ]
     },
     "execution_count": 64,
     "metadata": {},
     "output_type": "execute_result"
    }
   ],
   "source": [
    "arr5.reshape(4,3)"
   ]
  },
  {
   "cell_type": "code",
   "execution_count": 65,
   "id": "b22b805e",
   "metadata": {},
   "outputs": [
    {
     "data": {
      "text/plain": [
       "array([[ 0,  1],\n",
       "       [ 2,  3],\n",
       "       [ 4,  5],\n",
       "       [ 6,  7],\n",
       "       [ 8,  9],\n",
       "       [10, 11]])"
      ]
     },
     "execution_count": 65,
     "metadata": {},
     "output_type": "execute_result"
    }
   ],
   "source": [
    "arr5.reshape(6,2)"
   ]
  },
  {
   "cell_type": "code",
   "execution_count": 67,
   "id": "b27f348b",
   "metadata": {},
   "outputs": [
    {
     "data": {
      "text/plain": [
       "array([[ 0,  1,  2,  3,  4,  5],\n",
       "       [ 6,  7,  8,  9, 10, 11]])"
      ]
     },
     "execution_count": 67,
     "metadata": {},
     "output_type": "execute_result"
    }
   ],
   "source": [
    "arr5.reshape(2,6)"
   ]
  },
  {
   "cell_type": "code",
   "execution_count": 71,
   "id": "fd808496",
   "metadata": {},
   "outputs": [
    {
     "data": {
      "text/plain": [
       "array([[ 0,  1,  2,  3,  4,  5,  6,  7,  8,  9, 10, 11]])"
      ]
     },
     "execution_count": 71,
     "metadata": {},
     "output_type": "execute_result"
    }
   ],
   "source": [
    "arr5.reshape(1,12)"
   ]
  },
  {
   "cell_type": "code",
   "execution_count": 72,
   "id": "e994d9bc",
   "metadata": {},
   "outputs": [
    {
     "data": {
      "text/plain": [
       "array([[ 0],\n",
       "       [ 1],\n",
       "       [ 2],\n",
       "       [ 3],\n",
       "       [ 4],\n",
       "       [ 5],\n",
       "       [ 6],\n",
       "       [ 7],\n",
       "       [ 8],\n",
       "       [ 9],\n",
       "       [10],\n",
       "       [11]])"
      ]
     },
     "execution_count": 72,
     "metadata": {},
     "output_type": "execute_result"
    }
   ],
   "source": [
    "arr5.reshape(12,1)"
   ]
  },
  {
   "cell_type": "code",
   "execution_count": 73,
   "id": "f8c4d3e9",
   "metadata": {},
   "outputs": [
    {
     "ename": "ValueError",
     "evalue": "cannot reshape array of size 12 into shape (12,2)",
     "output_type": "error",
     "traceback": [
      "\u001b[1;31m---------------------------------------------------------------------------\u001b[0m",
      "\u001b[1;31mValueError\u001b[0m                                Traceback (most recent call last)",
      "Cell \u001b[1;32mIn[73], line 1\u001b[0m\n\u001b[1;32m----> 1\u001b[0m arr5\u001b[38;5;241m.\u001b[39mreshape(\u001b[38;5;241m12\u001b[39m,\u001b[38;5;241m2\u001b[39m)\n",
      "\u001b[1;31mValueError\u001b[0m: cannot reshape array of size 12 into shape (12,2)"
     ]
    }
   ],
   "source": [
    "arr5.reshape(12,2)\n",
    "# rows*col = array size"
   ]
  },
  {
   "cell_type": "code",
   "execution_count": 78,
   "id": "8e035168",
   "metadata": {},
   "outputs": [
    {
     "ename": "AttributeError",
     "evalue": "'numpy.ndarray' object has no attribute 'resgape'",
     "output_type": "error",
     "traceback": [
      "\u001b[1;31m---------------------------------------------------------------------------\u001b[0m",
      "\u001b[1;31mAttributeError\u001b[0m                            Traceback (most recent call last)",
      "Cell \u001b[1;32mIn[78], line 1\u001b[0m\n\u001b[1;32m----> 1\u001b[0m arr5\u001b[38;5;241m.\u001b[39mresgape(\u001b[38;5;241m3\u001b[39m,\u001b[38;5;241m3\u001b[39m)\n",
      "\u001b[1;31mAttributeError\u001b[0m: 'numpy.ndarray' object has no attribute 'resgape'"
     ]
    }
   ],
   "source": [
    "arr5.resgape(3,3)\n",
    "# rows*col = array size"
   ]
  },
  {
   "cell_type": "code",
   "execution_count": 3,
   "id": "8768a3fc",
   "metadata": {},
   "outputs": [],
   "source": [
    "import numpy as np"
   ]
  },
  {
   "cell_type": "code",
   "execution_count": 4,
   "id": "ea975ae8",
   "metadata": {},
   "outputs": [],
   "source": [
    "arr7 = np.linspace(5,51,15)"
   ]
  },
  {
   "cell_type": "code",
   "execution_count": 5,
   "id": "15759f7d",
   "metadata": {},
   "outputs": [
    {
     "data": {
      "text/plain": [
       "array([ 5.        ,  8.28571429, 11.57142857, 14.85714286, 18.14285714,\n",
       "       21.42857143, 24.71428571, 28.        , 31.28571429, 34.57142857,\n",
       "       37.85714286, 41.14285714, 44.42857143, 47.71428571, 51.        ])"
      ]
     },
     "execution_count": 5,
     "metadata": {},
     "output_type": "execute_result"
    }
   ],
   "source": [
    "arr7"
   ]
  },
  {
   "cell_type": "code",
   "execution_count": 6,
   "id": "983be5bd",
   "metadata": {},
   "outputs": [],
   "source": [
    "arr8 = arr7.reshape(3,5)"
   ]
  },
  {
   "cell_type": "code",
   "execution_count": 7,
   "id": "1b69de66",
   "metadata": {},
   "outputs": [
    {
     "data": {
      "text/plain": [
       "array([[ 5.        ,  8.28571429, 11.57142857, 14.85714286, 18.14285714],\n",
       "       [21.42857143, 24.71428571, 28.        , 31.28571429, 34.57142857],\n",
       "       [37.85714286, 41.14285714, 44.42857143, 47.71428571, 51.        ]])"
      ]
     },
     "execution_count": 7,
     "metadata": {},
     "output_type": "execute_result"
    }
   ],
   "source": [
    "arr8"
   ]
  },
  {
   "cell_type": "code",
   "execution_count": 8,
   "id": "d16b4682",
   "metadata": {},
   "outputs": [
    {
     "data": {
      "text/plain": [
       "2"
      ]
     },
     "execution_count": 8,
     "metadata": {},
     "output_type": "execute_result"
    }
   ],
   "source": [
    "arr8.ndim"
   ]
  },
  {
   "cell_type": "code",
   "execution_count": 90,
   "id": "65a4c573",
   "metadata": {},
   "outputs": [],
   "source": [
    "arr6 = np.linspace(1,10,15).reshape(3,5)"
   ]
  },
  {
   "cell_type": "code",
   "execution_count": 91,
   "id": "1763fc4a",
   "metadata": {},
   "outputs": [
    {
     "data": {
      "text/plain": [
       "array([[ 1.        ,  1.64285714,  2.28571429,  2.92857143,  3.57142857],\n",
       "       [ 4.21428571,  4.85714286,  5.5       ,  6.14285714,  6.78571429],\n",
       "       [ 7.42857143,  8.07142857,  8.71428571,  9.35714286, 10.        ]])"
      ]
     },
     "execution_count": 91,
     "metadata": {},
     "output_type": "execute_result"
    }
   ],
   "source": [
    "arr6"
   ]
  },
  {
   "cell_type": "code",
   "execution_count": 92,
   "id": "718782d7",
   "metadata": {},
   "outputs": [
    {
     "data": {
      "text/plain": [
       "2"
      ]
     },
     "execution_count": 92,
     "metadata": {},
     "output_type": "execute_result"
    }
   ],
   "source": [
    "arr6.ndim"
   ]
  },
  {
   "cell_type": "code",
   "execution_count": 99,
   "id": "5b57619a",
   "metadata": {},
   "outputs": [
    {
     "data": {
      "text/plain": [
       "15"
      ]
     },
     "execution_count": 99,
     "metadata": {},
     "output_type": "execute_result"
    }
   ],
   "source": [
    "arr6.size"
   ]
  },
  {
   "cell_type": "code",
   "execution_count": 100,
   "id": "560a6850",
   "metadata": {},
   "outputs": [
    {
     "data": {
      "text/plain": [
       "(3, 5)"
      ]
     },
     "execution_count": 100,
     "metadata": {},
     "output_type": "execute_result"
    }
   ],
   "source": [
    "arr6.shape"
   ]
  },
  {
   "cell_type": "code",
   "execution_count": null,
   "id": "67f26563",
   "metadata": {},
   "outputs": [],
   "source": []
  },
  {
   "cell_type": "code",
   "execution_count": null,
   "id": "c4f26168",
   "metadata": {},
   "outputs": [],
   "source": [
    "# 1D will have one [] \n",
    "# 2d will have [[ ]]\n",
    "# 3d will have [[[ ]]]\n",
    "# thus by counting the opening square brackets we can clerly identify the Dimanesion of array"
   ]
  },
  {
   "cell_type": "code",
   "execution_count": null,
   "id": "3609041b",
   "metadata": {},
   "outputs": [],
   "source": []
  }
 ],
 "metadata": {
  "kernelspec": {
   "display_name": "Python 3 (ipykernel)",
   "language": "python",
   "name": "python3"
  },
  "language_info": {
   "codemirror_mode": {
    "name": "ipython",
    "version": 3
   },
   "file_extension": ".py",
   "mimetype": "text/x-python",
   "name": "python",
   "nbconvert_exporter": "python",
   "pygments_lexer": "ipython3",
   "version": "3.11.5"
  }
 },
 "nbformat": 4,
 "nbformat_minor": 5
}
