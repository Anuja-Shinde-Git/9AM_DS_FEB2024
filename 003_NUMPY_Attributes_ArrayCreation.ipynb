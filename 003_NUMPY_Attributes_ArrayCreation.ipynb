{
 "cells": [
  {
   "cell_type": "markdown",
   "id": "1a8eea4e",
   "metadata": {},
   "source": [
    "# faster operations"
   ]
  },
  {
   "cell_type": "code",
   "execution_count": 1,
   "id": "825f32f7",
   "metadata": {},
   "outputs": [],
   "source": [
    "import numpy as np"
   ]
  },
  {
   "cell_type": "code",
   "execution_count": 5,
   "id": "bce931c6",
   "metadata": {},
   "outputs": [
    {
     "name": "stdout",
     "output_type": "stream",
     "text": [
      "[0, 1, 2, 3, 4, 5, 6, 7, 8, 9, 10, 11, 12, 13, 14, 15, 16, 17, 18, 19, 20, 21, 22, 23, 24, 25, 26, 27, 28, 29, 30, 31, 32, 33, 34, 35, 36, 37, 38, 39, 40, 41, 42, 43, 44, 45, 46, 47, 48, 49]\n"
     ]
    }
   ],
   "source": [
    "a1 = list(range(50))\n",
    "print(a1)"
   ]
  },
  {
   "cell_type": "code",
   "execution_count": 6,
   "id": "dc71d675",
   "metadata": {},
   "outputs": [
    {
     "name": "stdout",
     "output_type": "stream",
     "text": [
      "0\n",
      "1\n",
      "2\n",
      "3\n",
      "4\n",
      "5\n",
      "6\n",
      "7\n",
      "8\n",
      "9\n",
      "10\n",
      "11\n",
      "12\n",
      "13\n",
      "14\n",
      "15\n",
      "16\n",
      "17\n",
      "18\n",
      "19\n",
      "20\n",
      "21\n",
      "22\n",
      "23\n",
      "24\n",
      "25\n",
      "26\n",
      "27\n",
      "28\n",
      "29\n",
      "30\n",
      "31\n",
      "32\n",
      "33\n",
      "34\n",
      "35\n",
      "36\n",
      "37\n",
      "38\n",
      "39\n",
      "40\n",
      "41\n",
      "42\n",
      "43\n",
      "44\n",
      "45\n",
      "46\n",
      "47\n",
      "48\n",
      "49\n"
     ]
    }
   ],
   "source": [
    "for i in a1:\n",
    "    print(i)"
   ]
  },
  {
   "cell_type": "code",
   "execution_count": 15,
   "id": "2bfad90e",
   "metadata": {},
   "outputs": [
    {
     "name": "stdout",
     "output_type": "stream",
     "text": [
      "1.8 µs ± 132 ns per loop (mean ± std. dev. of 7 runs, 100,000 loops each)\n"
     ]
    }
   ],
   "source": [
    "%timeit [i*i for i in a1]"
   ]
  },
  {
   "cell_type": "code",
   "execution_count": 14,
   "id": "83da6e39",
   "metadata": {
    "scrolled": true
   },
   "outputs": [
    {
     "name": "stdout",
     "output_type": "stream",
     "text": [
      "1.82 µs ± 132 ns per loop (mean ± std. dev. of 7 runs, 100,000 loops each)\n"
     ]
    }
   ],
   "source": [
    "%timeit [i*i for i in a1]"
   ]
  },
  {
   "cell_type": "code",
   "execution_count": 17,
   "id": "c1e54195",
   "metadata": {},
   "outputs": [
    {
     "name": "stdout",
     "output_type": "stream",
     "text": [
      "[ 0  1  2  3  4  5  6  7  8  9 10 11 12 13 14 15 16 17 18 19 20 21 22 23\n",
      " 24 25 26 27 28 29 30 31 32 33 34 35 36 37 38 39 40 41 42 43 44 45 46 47\n",
      " 48 49]\n"
     ]
    }
   ],
   "source": [
    "a2 = np.arange(50)\n",
    "print(a2)"
   ]
  },
  {
   "cell_type": "code",
   "execution_count": 19,
   "id": "e6c4373f",
   "metadata": {},
   "outputs": [
    {
     "name": "stdout",
     "output_type": "stream",
     "text": [
      "494 ns ± 15.8 ns per loop (mean ± std. dev. of 7 runs, 1,000,000 loops each)\n"
     ]
    }
   ],
   "source": [
    "%timeit [a2*a2]"
   ]
  },
  {
   "cell_type": "markdown",
   "id": "59a981f7",
   "metadata": {},
   "source": [
    "# Array Attributes"
   ]
  },
  {
   "cell_type": "code",
   "execution_count": 21,
   "id": "4192e454",
   "metadata": {},
   "outputs": [],
   "source": [
    "a3 = [10,20,30,40]"
   ]
  },
  {
   "cell_type": "code",
   "execution_count": 22,
   "id": "2c771127",
   "metadata": {
    "scrolled": true
   },
   "outputs": [],
   "source": [
    "a4 = np.array(a3)"
   ]
  },
  {
   "cell_type": "code",
   "execution_count": 23,
   "id": "f0abbd2a",
   "metadata": {},
   "outputs": [
    {
     "data": {
      "text/plain": [
       "array([10, 20, 30, 40])"
      ]
     },
     "execution_count": 23,
     "metadata": {},
     "output_type": "execute_result"
    }
   ],
   "source": [
    "a4"
   ]
  },
  {
   "cell_type": "code",
   "execution_count": 24,
   "id": "9d20c529",
   "metadata": {},
   "outputs": [
    {
     "data": {
      "text/plain": [
       "(4,)"
      ]
     },
     "execution_count": 24,
     "metadata": {},
     "output_type": "execute_result"
    }
   ],
   "source": [
    "a4.shape"
   ]
  },
  {
   "cell_type": "code",
   "execution_count": 25,
   "id": "12f8730c",
   "metadata": {},
   "outputs": [
    {
     "data": {
      "text/plain": [
       "4"
      ]
     },
     "execution_count": 25,
     "metadata": {},
     "output_type": "execute_result"
    }
   ],
   "source": [
    "a4.size"
   ]
  },
  {
   "cell_type": "code",
   "execution_count": 26,
   "id": "30f8d5a5",
   "metadata": {},
   "outputs": [
    {
     "data": {
      "text/plain": [
       "1"
      ]
     },
     "execution_count": 26,
     "metadata": {},
     "output_type": "execute_result"
    }
   ],
   "source": [
    "a4.ndim"
   ]
  },
  {
   "cell_type": "markdown",
   "id": "1f23243e",
   "metadata": {},
   "source": [
    "# 1D Array Creation"
   ]
  },
  {
   "cell_type": "code",
   "execution_count": null,
   "id": "e6ad37b0",
   "metadata": {},
   "outputs": [],
   "source": [
    "# By passing a list\n",
    "# arange()\n",
    "# using linspace() : will create the number of elements required between two points (start value:end value-1:no.of elements)"
   ]
  },
  {
   "cell_type": "code",
   "execution_count": null,
   "id": "16cc1d56",
   "metadata": {},
   "outputs": [],
   "source": [
    "# By passing a list"
   ]
  },
  {
   "cell_type": "code",
   "execution_count": 29,
   "id": "a56be70c",
   "metadata": {},
   "outputs": [
    {
     "name": "stdout",
     "output_type": "stream",
     "text": [
      "<class 'list'>\n",
      "[0, 1, 2, 3, 4, 5, 6, 7, 8, 9, 10, 11, 12, 13, 14, 15, 16, 17, 18, 19, 20, 21, 22, 23, 24]\n",
      "[ 0  1  2  3  4  5  6  7  8  9 10 11 12 13 14 15 16 17 18 19 20 21 22 23\n",
      " 24]\n"
     ]
    }
   ],
   "source": [
    "a5 = [0,1,2,3,4,5,6,7,8,9]\n",
    "print(type(a5))\n",
    "a6 = list(range(25))\n",
    "print(a6)\n",
    "\n",
    "arr1 = np.array(a6)\n",
    "print(arr1)"
   ]
  },
  {
   "cell_type": "code",
   "execution_count": 31,
   "id": "1cff583f",
   "metadata": {},
   "outputs": [
    {
     "data": {
      "text/plain": [
       "(25,)"
      ]
     },
     "execution_count": 31,
     "metadata": {},
     "output_type": "execute_result"
    }
   ],
   "source": [
    "arr1.shape"
   ]
  },
  {
   "cell_type": "code",
   "execution_count": 32,
   "id": "39989aa7",
   "metadata": {},
   "outputs": [
    {
     "data": {
      "text/plain": [
       "25"
      ]
     },
     "execution_count": 32,
     "metadata": {},
     "output_type": "execute_result"
    }
   ],
   "source": [
    "arr1.size"
   ]
  },
  {
   "cell_type": "code",
   "execution_count": 33,
   "id": "2197bf90",
   "metadata": {},
   "outputs": [
    {
     "data": {
      "text/plain": [
       "1"
      ]
     },
     "execution_count": 33,
     "metadata": {},
     "output_type": "execute_result"
    }
   ],
   "source": [
    "arr1.ndim"
   ]
  },
  {
   "cell_type": "code",
   "execution_count": null,
   "id": "822205ee",
   "metadata": {},
   "outputs": [],
   "source": [
    "# arange()"
   ]
  },
  {
   "cell_type": "code",
   "execution_count": 35,
   "id": "e23db235",
   "metadata": {},
   "outputs": [
    {
     "data": {
      "text/plain": [
       "array([0, 1, 2, 3, 4, 5, 6, 7, 8, 9])"
      ]
     },
     "execution_count": 35,
     "metadata": {},
     "output_type": "execute_result"
    }
   ],
   "source": [
    "arr2 = np.arange(10)\n",
    "arr2\n",
    "# print(arr2)"
   ]
  },
  {
   "cell_type": "code",
   "execution_count": 36,
   "id": "dd474d35",
   "metadata": {},
   "outputs": [
    {
     "data": {
      "text/plain": [
       "(10,)"
      ]
     },
     "execution_count": 36,
     "metadata": {},
     "output_type": "execute_result"
    }
   ],
   "source": [
    "arr2.shape"
   ]
  },
  {
   "cell_type": "code",
   "execution_count": 37,
   "id": "4a9c1d7f",
   "metadata": {},
   "outputs": [
    {
     "data": {
      "text/plain": [
       "10"
      ]
     },
     "execution_count": 37,
     "metadata": {},
     "output_type": "execute_result"
    }
   ],
   "source": [
    "arr2.size"
   ]
  },
  {
   "cell_type": "code",
   "execution_count": 38,
   "id": "282b1abf",
   "metadata": {},
   "outputs": [
    {
     "data": {
      "text/plain": [
       "1"
      ]
     },
     "execution_count": 38,
     "metadata": {},
     "output_type": "execute_result"
    }
   ],
   "source": [
    "arr2.ndim"
   ]
  },
  {
   "cell_type": "code",
   "execution_count": null,
   "id": "db1fb448",
   "metadata": {},
   "outputs": [],
   "source": []
  },
  {
   "cell_type": "code",
   "execution_count": 41,
   "id": "46a25ad5",
   "metadata": {},
   "outputs": [
    {
     "name": "stdout",
     "output_type": "stream",
     "text": [
      "[7, 10, 13, 16, 19, 22, 25, 28, 31, 34, 37, 40, 43, 46, 49, 52, 55, 58, 61, 64, 67, 70, 73, 76, 79, 82]\n",
      "[ 7 10 13 16 19 22 25 28 31 34 37 40 43 46 49 52 55 58 61 64 67 70 73 76\n",
      " 79 82]\n"
     ]
    },
    {
     "data": {
      "text/plain": [
       "26"
      ]
     },
     "execution_count": 41,
     "metadata": {},
     "output_type": "execute_result"
    }
   ],
   "source": [
    "a7 = list(range(7,85,3))\n",
    "arr7 = np.array(a7)\n",
    "print(a7)\n",
    "print(arr7)\n",
    "arr7.size"
   ]
  },
  {
   "cell_type": "code",
   "execution_count": null,
   "id": "1eace57c",
   "metadata": {},
   "outputs": [],
   "source": [
    "# using linspace()"
   ]
  },
  {
   "cell_type": "code",
   "execution_count": 44,
   "id": "a4cc05e3",
   "metadata": {},
   "outputs": [
    {
     "data": {
      "text/plain": [
       "array([ 1.  ,  3.25,  5.5 ,  7.75, 10.  ])"
      ]
     },
     "execution_count": 44,
     "metadata": {},
     "output_type": "execute_result"
    }
   ],
   "source": [
    "arr8 = np.linspace(1,10,5)\n",
    "arr8\n",
    "# print(arr8)"
   ]
  },
  {
   "cell_type": "code",
   "execution_count": null,
   "id": "0717a2d1",
   "metadata": {},
   "outputs": [],
   "source": [
    "# arange and linspace difference"
   ]
  },
  {
   "cell_type": "code",
   "execution_count": 45,
   "id": "2fcb581c",
   "metadata": {},
   "outputs": [
    {
     "data": {
      "text/plain": [
       "array([1, 6])"
      ]
     },
     "execution_count": 45,
     "metadata": {},
     "output_type": "execute_result"
    }
   ],
   "source": [
    "arr8 = np.arange(1,10,5)\n",
    "arr8"
   ]
  },
  {
   "cell_type": "code",
   "execution_count": null,
   "id": "eb7142c2",
   "metadata": {},
   "outputs": [],
   "source": []
  },
  {
   "cell_type": "code",
   "execution_count": 48,
   "id": "72489289",
   "metadata": {},
   "outputs": [
    {
     "data": {
      "text/plain": [
       "array([1.        , 1.01010101, 1.02020202, 1.03030303, 1.04040404,\n",
       "       1.05050505, 1.06060606, 1.07070707, 1.08080808, 1.09090909,\n",
       "       1.1010101 , 1.11111111, 1.12121212, 1.13131313, 1.14141414,\n",
       "       1.15151515, 1.16161616, 1.17171717, 1.18181818, 1.19191919,\n",
       "       1.2020202 , 1.21212121, 1.22222222, 1.23232323, 1.24242424,\n",
       "       1.25252525, 1.26262626, 1.27272727, 1.28282828, 1.29292929,\n",
       "       1.3030303 , 1.31313131, 1.32323232, 1.33333333, 1.34343434,\n",
       "       1.35353535, 1.36363636, 1.37373737, 1.38383838, 1.39393939,\n",
       "       1.4040404 , 1.41414141, 1.42424242, 1.43434343, 1.44444444,\n",
       "       1.45454545, 1.46464646, 1.47474747, 1.48484848, 1.49494949,\n",
       "       1.50505051, 1.51515152, 1.52525253, 1.53535354, 1.54545455,\n",
       "       1.55555556, 1.56565657, 1.57575758, 1.58585859, 1.5959596 ,\n",
       "       1.60606061, 1.61616162, 1.62626263, 1.63636364, 1.64646465,\n",
       "       1.65656566, 1.66666667, 1.67676768, 1.68686869, 1.6969697 ,\n",
       "       1.70707071, 1.71717172, 1.72727273, 1.73737374, 1.74747475,\n",
       "       1.75757576, 1.76767677, 1.77777778, 1.78787879, 1.7979798 ,\n",
       "       1.80808081, 1.81818182, 1.82828283, 1.83838384, 1.84848485,\n",
       "       1.85858586, 1.86868687, 1.87878788, 1.88888889, 1.8989899 ,\n",
       "       1.90909091, 1.91919192, 1.92929293, 1.93939394, 1.94949495,\n",
       "       1.95959596, 1.96969697, 1.97979798, 1.98989899, 2.        ])"
      ]
     },
     "execution_count": 48,
     "metadata": {},
     "output_type": "execute_result"
    }
   ],
   "source": [
    "arr8 = np.linspace(1,2,100)\n",
    "arr8"
   ]
  },
  {
   "cell_type": "code",
   "execution_count": 49,
   "id": "f8f2bd0d",
   "metadata": {},
   "outputs": [
    {
     "data": {
      "text/plain": [
       "array([1])"
      ]
     },
     "execution_count": 49,
     "metadata": {},
     "output_type": "execute_result"
    }
   ],
   "source": [
    "arr8 = np.arange(1,2,100)\n",
    "arr8"
   ]
  },
  {
   "cell_type": "code",
   "execution_count": null,
   "id": "6930ba91",
   "metadata": {},
   "outputs": [],
   "source": [
    "\n",
    "\n",
    "using negative side"
   ]
  },
  {
   "cell_type": "code",
   "execution_count": 51,
   "id": "fe9b4150",
   "metadata": {},
   "outputs": [
    {
     "data": {
      "text/plain": [
       "array([ 1.        ,  0.96969697,  0.93939394,  0.90909091,  0.87878788,\n",
       "        0.84848485,  0.81818182,  0.78787879,  0.75757576,  0.72727273,\n",
       "        0.6969697 ,  0.66666667,  0.63636364,  0.60606061,  0.57575758,\n",
       "        0.54545455,  0.51515152,  0.48484848,  0.45454545,  0.42424242,\n",
       "        0.39393939,  0.36363636,  0.33333333,  0.3030303 ,  0.27272727,\n",
       "        0.24242424,  0.21212121,  0.18181818,  0.15151515,  0.12121212,\n",
       "        0.09090909,  0.06060606,  0.03030303,  0.        , -0.03030303,\n",
       "       -0.06060606, -0.09090909, -0.12121212, -0.15151515, -0.18181818,\n",
       "       -0.21212121, -0.24242424, -0.27272727, -0.3030303 , -0.33333333,\n",
       "       -0.36363636, -0.39393939, -0.42424242, -0.45454545, -0.48484848,\n",
       "       -0.51515152, -0.54545455, -0.57575758, -0.60606061, -0.63636364,\n",
       "       -0.66666667, -0.6969697 , -0.72727273, -0.75757576, -0.78787879,\n",
       "       -0.81818182, -0.84848485, -0.87878788, -0.90909091, -0.93939394,\n",
       "       -0.96969697, -1.        , -1.03030303, -1.06060606, -1.09090909,\n",
       "       -1.12121212, -1.15151515, -1.18181818, -1.21212121, -1.24242424,\n",
       "       -1.27272727, -1.3030303 , -1.33333333, -1.36363636, -1.39393939,\n",
       "       -1.42424242, -1.45454545, -1.48484848, -1.51515152, -1.54545455,\n",
       "       -1.57575758, -1.60606061, -1.63636364, -1.66666667, -1.6969697 ,\n",
       "       -1.72727273, -1.75757576, -1.78787879, -1.81818182, -1.84848485,\n",
       "       -1.87878788, -1.90909091, -1.93939394, -1.96969697, -2.        ])"
      ]
     },
     "execution_count": 51,
     "metadata": {},
     "output_type": "execute_result"
    }
   ],
   "source": [
    "arr8 = np.linspace(1,-2,100)\n",
    "arr8"
   ]
  },
  {
   "cell_type": "code",
   "execution_count": 54,
   "id": "1abdcfa0",
   "metadata": {},
   "outputs": [
    {
     "data": {
      "text/plain": [
       "array([ 2.        ,  1.96969697,  1.93939394,  1.90909091,  1.87878788,\n",
       "        1.84848485,  1.81818182,  1.78787879,  1.75757576,  1.72727273,\n",
       "        1.6969697 ,  1.66666667,  1.63636364,  1.60606061,  1.57575758,\n",
       "        1.54545455,  1.51515152,  1.48484848,  1.45454545,  1.42424242,\n",
       "        1.39393939,  1.36363636,  1.33333333,  1.3030303 ,  1.27272727,\n",
       "        1.24242424,  1.21212121,  1.18181818,  1.15151515,  1.12121212,\n",
       "        1.09090909,  1.06060606,  1.03030303,  1.        ,  0.96969697,\n",
       "        0.93939394,  0.90909091,  0.87878788,  0.84848485,  0.81818182,\n",
       "        0.78787879,  0.75757576,  0.72727273,  0.6969697 ,  0.66666667,\n",
       "        0.63636364,  0.60606061,  0.57575758,  0.54545455,  0.51515152,\n",
       "        0.48484848,  0.45454545,  0.42424242,  0.39393939,  0.36363636,\n",
       "        0.33333333,  0.3030303 ,  0.27272727,  0.24242424,  0.21212121,\n",
       "        0.18181818,  0.15151515,  0.12121212,  0.09090909,  0.06060606,\n",
       "        0.03030303,  0.        , -0.03030303, -0.06060606, -0.09090909,\n",
       "       -0.12121212, -0.15151515, -0.18181818, -0.21212121, -0.24242424,\n",
       "       -0.27272727, -0.3030303 , -0.33333333, -0.36363636, -0.39393939,\n",
       "       -0.42424242, -0.45454545, -0.48484848, -0.51515152, -0.54545455,\n",
       "       -0.57575758, -0.60606061, -0.63636364, -0.66666667, -0.6969697 ,\n",
       "       -0.72727273, -0.75757576, -0.78787879, -0.81818182, -0.84848485,\n",
       "       -0.87878788, -0.90909091, -0.93939394, -0.96969697, -1.        ])"
      ]
     },
     "execution_count": 54,
     "metadata": {},
     "output_type": "execute_result"
    }
   ],
   "source": [
    "arr8 = np.linspace(2,-1,100)\n",
    "arr8"
   ]
  },
  {
   "cell_type": "code",
   "execution_count": null,
   "id": "4f81b768",
   "metadata": {},
   "outputs": [],
   "source": []
  }
 ],
 "metadata": {
  "kernelspec": {
   "display_name": "Python 3 (ipykernel)",
   "language": "python",
   "name": "python3"
  },
  "language_info": {
   "codemirror_mode": {
    "name": "ipython",
    "version": 3
   },
   "file_extension": ".py",
   "mimetype": "text/x-python",
   "name": "python",
   "nbconvert_exporter": "python",
   "pygments_lexer": "ipython3",
   "version": "3.11.5"
  }
 },
 "nbformat": 4,
 "nbformat_minor": 5
}
