{
 "cells": [
  {
   "cell_type": "markdown",
   "id": "316b1136",
   "metadata": {},
   "source": [
    "# INTRO TO JUPYTER NOTEBOOK"
   ]
  },
  {
   "cell_type": "code",
   "execution_count": null,
   "id": "b983fb70",
   "metadata": {},
   "outputs": [],
   "source": [
    "# 1. CMD\n",
    "# 2. jupyter notebook > this service/ window should always be running\n",
    "# 3. default location > http://localhost:8888/tree\n",
    "# 4. / means C:\\ is root Folder\n",
    "# 5. Create a new Python file"
   ]
  },
  {
   "cell_type": "markdown",
   "id": "1d55a6c4",
   "metadata": {},
   "source": [
    "Press Esc to ensure you're in command mode (the cell border will turn blue), then press A to insert a cell above or B to insert a cell below the current cell."
   ]
  },
  {
   "cell_type": "markdown",
   "id": "0b4482df",
   "metadata": {},
   "source": [
    "M for Markdown cells or Y for code cells."
   ]
  },
  {
   "cell_type": "markdown",
   "id": "7229bd6a",
   "metadata": {},
   "source": [
    "ctrl + enter to run cell"
   ]
  },
  {
   "cell_type": "markdown",
   "id": "b503ba1b",
   "metadata": {},
   "source": [
    "# INTRO TO NUMPY"
   ]
  },
  {
   "cell_type": "code",
   "execution_count": null,
   "id": "ec7816de",
   "metadata": {},
   "outputs": [],
   "source": [
    "#  https://numpy.org/doc/stable/user/quickstart.html#an-example"
   ]
  },
  {
   "cell_type": "markdown",
   "id": "0e7e237c",
   "metadata": {},
   "source": [
    "# WHY NUMPY?"
   ]
  },
  {
   "cell_type": "code",
   "execution_count": 4,
   "id": "1a7fb2f3",
   "metadata": {},
   "outputs": [
    {
     "name": "stdout",
     "output_type": "stream",
     "text": [
      "[1, 2, 3, 4, 5, 6, 7, 8, 9]\n"
     ]
    }
   ],
   "source": [
    "a1 = [1,2,3,4,5,6,7,8,9]\n",
    "print(a1)"
   ]
  },
  {
   "cell_type": "code",
   "execution_count": 6,
   "id": "5177a5d2",
   "metadata": {},
   "outputs": [
    {
     "name": "stdout",
     "output_type": "stream",
     "text": [
      "2\n",
      "4\n",
      "6\n",
      "8\n",
      "10\n",
      "12\n",
      "14\n",
      "16\n",
      "18\n"
     ]
    }
   ],
   "source": [
    "# to double the elements in list a1\n",
    "for i in a1:\n",
    "    print(i*2)"
   ]
  },
  {
   "cell_type": "code",
   "execution_count": 9,
   "id": "bb685e8d",
   "metadata": {},
   "outputs": [
    {
     "name": "stdout",
     "output_type": "stream",
     "text": [
      "[2, 4, 6, 8, 10, 12, 14, 16, 18]\n"
     ]
    }
   ],
   "source": [
    "a2 = [i*2 for i in a1] \n",
    "# list comprehension\n",
    "print(a2)"
   ]
  },
  {
   "cell_type": "code",
   "execution_count": null,
   "id": "79b8034b",
   "metadata": {},
   "outputs": [],
   "source": [
    "# to square the element in the list a1"
   ]
  },
  {
   "cell_type": "code",
   "execution_count": 13,
   "id": "8fc0e2d5",
   "metadata": {},
   "outputs": [
    {
     "name": "stdout",
     "output_type": "stream",
     "text": [
      "[1, 2, 3, 4, 5, 6, 7, 8, 9]\n",
      "1\n",
      "4\n",
      "9\n",
      "16\n",
      "25\n",
      "36\n",
      "49\n",
      "64\n",
      "81\n"
     ]
    }
   ],
   "source": [
    "print(a1)\n",
    "for i in a1:\n",
    "    print(i**2)"
   ]
  },
  {
   "cell_type": "code",
   "execution_count": 14,
   "id": "e27e7f0f",
   "metadata": {},
   "outputs": [
    {
     "name": "stdout",
     "output_type": "stream",
     "text": [
      "[1, 4, 9, 16, 25, 36, 49, 64, 81]\n"
     ]
    }
   ],
   "source": [
    "a3=[i**2 for i in a1]\n",
    "print(a3)"
   ]
  },
  {
   "cell_type": "markdown",
   "id": "31bf8214",
   "metadata": {},
   "source": [
    "# better approach??"
   ]
  },
  {
   "cell_type": "code",
   "execution_count": null,
   "id": "64ea2c1e",
   "metadata": {},
   "outputs": [],
   "source": [
    "import numpy as np"
   ]
  },
  {
   "cell_type": "code",
   "execution_count": 17,
   "id": "9d79e308",
   "metadata": {},
   "outputs": [
    {
     "name": "stdout",
     "output_type": "stream",
     "text": [
      "hello world\n"
     ]
    }
   ],
   "source": [
    "print('hello world')"
   ]
  },
  {
   "cell_type": "code",
   "execution_count": 18,
   "id": "2b458be1",
   "metadata": {},
   "outputs": [
    {
     "name": "stdout",
     "output_type": "stream",
     "text": [
      "rakesh\n"
     ]
    }
   ],
   "source": [
    "name = 'Rakesh'\n",
    "print(name.casefold())"
   ]
  },
  {
   "cell_type": "code",
   "execution_count": 20,
   "id": "0dc423d9",
   "metadata": {},
   "outputs": [
    {
     "name": "stdout",
     "output_type": "stream",
     "text": [
      "[1 2 3 4 5 6 7 8 9]\n"
     ]
    }
   ],
   "source": [
    "arr1 = np.array(a1)\n",
    "print(arr1)"
   ]
  },
  {
   "cell_type": "code",
   "execution_count": 21,
   "id": "da0b0872",
   "metadata": {},
   "outputs": [
    {
     "name": "stdout",
     "output_type": "stream",
     "text": [
      "[1, 2, 3, 4, 5, 6, 7, 8, 9]\n"
     ]
    }
   ],
   "source": [
    "print(a1)"
   ]
  },
  {
   "cell_type": "code",
   "execution_count": 27,
   "id": "c219e7f5",
   "metadata": {},
   "outputs": [
    {
     "name": "stdout",
     "output_type": "stream",
     "text": [
      "[1, 2, 3, 4, 5, 6, 7, 8, 9, 1, 2, 3, 4, 5, 6, 7, 8, 9]\n"
     ]
    }
   ],
   "source": [
    "print(a1*2)"
   ]
  },
  {
   "cell_type": "code",
   "execution_count": 26,
   "id": "beaa3b55",
   "metadata": {},
   "outputs": [
    {
     "name": "stdout",
     "output_type": "stream",
     "text": [
      "[ 2  4  6  8 10 12 14 16 18]\n"
     ]
    }
   ],
   "source": [
    "print(arr1*2)\n",
    "# numpy supports elementwise operation"
   ]
  },
  {
   "cell_type": "code",
   "execution_count": 31,
   "id": "24a9153e",
   "metadata": {},
   "outputs": [
    {
     "name": "stdout",
     "output_type": "stream",
     "text": [
      "[  1   8  27  64 125 216 343 512 729]\n"
     ]
    }
   ],
   "source": [
    "print(arr1**3)"
   ]
  }
 ],
 "metadata": {
  "kernelspec": {
   "display_name": "Python 3 (ipykernel)",
   "language": "python",
   "name": "python3"
  },
  "language_info": {
   "codemirror_mode": {
    "name": "ipython",
    "version": 3
   },
   "file_extension": ".py",
   "mimetype": "text/x-python",
   "name": "python",
   "nbconvert_exporter": "python",
   "pygments_lexer": "ipython3",
   "version": "3.11.5"
  }
 },
 "nbformat": 4,
 "nbformat_minor": 5
}
